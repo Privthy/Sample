{
  "nbformat": 4,
  "nbformat_minor": 0,
  "metadata": {
    "colab": {
      "name": "Untitled21.ipynb",
      "version": "0.3.2",
      "provenance": [],
      "include_colab_link": true
    },
    "kernelspec": {
      "name": "python3",
      "display_name": "Python 3"
    }
  },
  "cells": [
    {
      "cell_type": "markdown",
      "metadata": {
        "id": "view-in-github",
        "colab_type": "text"
      },
      "source": [
        "<a href=\"https://colab.research.google.com/github/mohanrajmit/Image-Read/blob/master/KNN.ipynb\" target=\"_parent\"><img src=\"https://colab.research.google.com/assets/colab-badge.svg\" alt=\"Open In Colab\"/></a>"
      ]
    },
    {
      "metadata": {
        "id": "UzIDpj9vOFDD",
        "colab_type": "code",
        "colab": {}
      },
      "cell_type": "code",
      "source": [
        "from sklearn.neighbors import KNeighborsClassifier\n",
        "from sklearn.preprocessing import LabelEncoder\n",
        "from sklearn.model_selection import train_test_split\n",
        "from sklearn.metrics import classification_report\n",
        "from imutils import paths\n",
        "import argparse\n",
        "import cv2\n",
        "import numpy as np\n",
        "import matplotlib.pyplot as plt\n"
      ],
      "execution_count": 0,
      "outputs": []
    },
    {
      "metadata": {
        "id": "1QK4ockVPV5d",
        "colab_type": "code",
        "colab": {}
      },
      "cell_type": "code",
      "source": [
        "!git clone https://github.com/mohanrajmit/Image-Read.git"
      ],
      "execution_count": 0,
      "outputs": []
    },
    {
      "metadata": {
        "id": "T05OhSQRONds",
        "colab_type": "code",
        "colab": {}
      },
      "cell_type": "code",
      "source": [
        "\n",
        "def load():\n",
        "\t\t# initialize the list of features and labels\n",
        "\t\tdata = []\n",
        "\t\tlabels = []\n",
        "\n",
        "\t\t# loop over the input images\n",
        "\t\tfor (i, imagePath) in enumerate(imagePaths):\n",
        "\t\t\t# load the image and extract the class label assuming\n",
        "\t\t\t# that our path has the following format:\n",
        "\t\t\t# /path/to/dataset/{class}/{image}.jpg\n",
        "\t\t\timage = cv2.imread(imagePath)\n",
        "\t\t\tlabel = imagePath.split(\"\\\\\")[-2]\n",
        "\t\t\t#label = imagePath.split(os.path.sep)[-2]\n",
        "\t\t\timage = cv2.resize(image, (32, 32),interpolation=cv2.INTER_AREA)\n",
        "\t\t\t\n",
        "\t\t\t\n",
        "\n",
        "\t\t\t# treat our processed image as a \"feature vector\"\n",
        "\t\t\t# by updating the data list followed by the labels\n",
        "\t\t\tdata.append(image)\n",
        "\t\t\tlabels.append(label)\n",
        "\n",
        "\t\t\t# show an update every `verbose` images\n",
        "\t\t\t#if verbose > 0 and i > 0 and (i + 1) % verbose == 0:\n",
        "\t\t\t\t#print(\"[INFO] processed {}/{}\".format(i + 1,\n",
        "\t\t\t\t\t#len(imagePaths)))\n",
        "\n",
        "\t\t# return a tuple of the data and labels\n",
        "\t\treturn (np.array(data), np.array(labels))"
      ],
      "execution_count": 0,
      "outputs": []
    },
    {
      "metadata": {
        "id": "0dqbsp2FOcoj",
        "colab_type": "code",
        "colab": {}
      },
      "cell_type": "code",
      "source": [
        "# grab the list of images that we'll be describing\n",
        "print(\"[INFO] loading images...\")\n",
        "imagePaths = list(paths.list_images(\"Image-Read/animals\"))\n",
        "print(imagePaths)\n",
        "\n",
        "# initialize the image preprocessor, load the dataset from disk,\n",
        "# and reshape the data matrix\n",
        "#sp = SimplePreprocessor(32, 32)\n",
        "#sdl = SimpleDatasetLoader(preprocessors=[sp])\n",
        "(data, labels) = load()\n",
        "\n",
        "data = data.reshape((data.shape[0], 3072))\n",
        "\n",
        "\n",
        "# encode the labels as integers\n",
        "le = LabelEncoder()\n",
        "labels = le.fit_transform(labels)\n",
        "\n",
        "# partition the data into training and testing splits using 75% of\n",
        "# the data for training and the remaining 25% for testing\n",
        "(trainX, testX, trainY, testY) = train_test_split(data, labels,\n",
        "\ttest_size=0.25, random_state=42)\n",
        "\n",
        "\n",
        "\n",
        "\n",
        "#cv2.putText(img,res, (10, 35), cv2.FONT_HERSHEY_SIMPLEX, 1.0,\t\t(0, 255, 0), 3)\n",
        "cv2.imshow(\"query\",img)\n",
        "\n",
        "print(classification_report(testY, model.predict(testX),\ttarget_names=le.classes_))"
      ],
      "execution_count": 0,
      "outputs": []
    },
    {
      "metadata": {
        "id": "NlY7WfRPP-gc",
        "colab_type": "code",
        "colab": {}
      },
      "cell_type": "code",
      "source": [
        "# train and evaluate a k-NN classifier on the raw pixel intensities)\n",
        "print(\"[INFO] evaluating k-NN classifier...\")\n",
        "model = KNeighborsClassifier(n_neighbors=1)\n",
        "model.fit(trainX, trainY)"
      ],
      "execution_count": 0,
      "outputs": []
    },
    {
      "metadata": {
        "id": "AhlhioRjP7Qc",
        "colab_type": "code",
        "colab": {}
      },
      "cell_type": "code",
      "source": [
        "img=cv2.imread(\"Image-Read/animals/dogs/dogs_00018.jpg\")\n",
        "img2=cv2.resize(img, (32, 32),interpolation=cv2.INTER_AREA)\n",
        "img1=img2.flatten()\n",
        "#img1=img1.reshape(-1,1)\n",
        "# insert a new axis along the row\n",
        "b = np.expand_dims(img1, axis=0)\n",
        "res=model.predict(b)\n",
        "print(res)\n",
        "plt.imshow(image)"
      ],
      "execution_count": 0,
      "outputs": []
    }
  ]
}